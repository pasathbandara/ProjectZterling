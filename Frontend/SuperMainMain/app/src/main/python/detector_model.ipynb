{
 "cells": [
  {
   "cell_type": "code",
   "execution_count": 24,
   "metadata": {},
   "outputs": [],
   "source": [
    "import pandas as pd\n",
    "import numpy as np"
   ]
  },
  {
   "cell_type": "code",
   "execution_count": 25,
   "metadata": {},
   "outputs": [],
   "source": [
    "true_news = pd.read_csv(\"Train Set/True.csv\")\n",
    "fake_news = pd.read_csv(\"Train Set/Fake.csv\")"
   ]
  },
  {
   "cell_type": "code",
   "execution_count": 26,
   "metadata": {},
   "outputs": [
    {
     "data": {
      "text/html": [
       "<div>\n",
       "<style scoped>\n",
       "    .dataframe tbody tr th:only-of-type {\n",
       "        vertical-align: middle;\n",
       "    }\n",
       "\n",
       "    .dataframe tbody tr th {\n",
       "        vertical-align: top;\n",
       "    }\n",
       "\n",
       "    .dataframe thead th {\n",
       "        text-align: right;\n",
       "    }\n",
       "</style>\n",
       "<table border=\"1\" class=\"dataframe\">\n",
       "  <thead>\n",
       "    <tr style=\"text-align: right;\">\n",
       "      <th></th>\n",
       "      <th>title</th>\n",
       "      <th>text</th>\n",
       "      <th>subject</th>\n",
       "      <th>date</th>\n",
       "    </tr>\n",
       "  </thead>\n",
       "  <tbody>\n",
       "    <tr>\n",
       "      <th>0</th>\n",
       "      <td>Donald Trump Sends Out Embarrassing New Year’...</td>\n",
       "      <td>Donald Trump just couldn t wish all Americans ...</td>\n",
       "      <td>News</td>\n",
       "      <td>December 31, 2017</td>\n",
       "    </tr>\n",
       "    <tr>\n",
       "      <th>1</th>\n",
       "      <td>Drunk Bragging Trump Staffer Started Russian ...</td>\n",
       "      <td>House Intelligence Committee Chairman Devin Nu...</td>\n",
       "      <td>News</td>\n",
       "      <td>December 31, 2017</td>\n",
       "    </tr>\n",
       "    <tr>\n",
       "      <th>2</th>\n",
       "      <td>Sheriff David Clarke Becomes An Internet Joke...</td>\n",
       "      <td>On Friday, it was revealed that former Milwauk...</td>\n",
       "      <td>News</td>\n",
       "      <td>December 30, 2017</td>\n",
       "    </tr>\n",
       "    <tr>\n",
       "      <th>3</th>\n",
       "      <td>Trump Is So Obsessed He Even Has Obama’s Name...</td>\n",
       "      <td>On Christmas day, Donald Trump announced that ...</td>\n",
       "      <td>News</td>\n",
       "      <td>December 29, 2017</td>\n",
       "    </tr>\n",
       "    <tr>\n",
       "      <th>4</th>\n",
       "      <td>Pope Francis Just Called Out Donald Trump Dur...</td>\n",
       "      <td>Pope Francis used his annual Christmas Day mes...</td>\n",
       "      <td>News</td>\n",
       "      <td>December 25, 2017</td>\n",
       "    </tr>\n",
       "  </tbody>\n",
       "</table>\n",
       "</div>"
      ],
      "text/plain": [
       "                                               title  \\\n",
       "0   Donald Trump Sends Out Embarrassing New Year’...   \n",
       "1   Drunk Bragging Trump Staffer Started Russian ...   \n",
       "2   Sheriff David Clarke Becomes An Internet Joke...   \n",
       "3   Trump Is So Obsessed He Even Has Obama’s Name...   \n",
       "4   Pope Francis Just Called Out Donald Trump Dur...   \n",
       "\n",
       "                                                text subject  \\\n",
       "0  Donald Trump just couldn t wish all Americans ...    News   \n",
       "1  House Intelligence Committee Chairman Devin Nu...    News   \n",
       "2  On Friday, it was revealed that former Milwauk...    News   \n",
       "3  On Christmas day, Donald Trump announced that ...    News   \n",
       "4  Pope Francis used his annual Christmas Day mes...    News   \n",
       "\n",
       "                date  \n",
       "0  December 31, 2017  \n",
       "1  December 31, 2017  \n",
       "2  December 30, 2017  \n",
       "3  December 29, 2017  \n",
       "4  December 25, 2017  "
      ]
     },
     "execution_count": 26,
     "metadata": {},
     "output_type": "execute_result"
    }
   ],
   "source": [
    "fake_news.head()"
   ]
  },
  {
   "cell_type": "code",
   "execution_count": 27,
   "metadata": {},
   "outputs": [
    {
     "data": {
      "text/html": [
       "<div>\n",
       "<style scoped>\n",
       "    .dataframe tbody tr th:only-of-type {\n",
       "        vertical-align: middle;\n",
       "    }\n",
       "\n",
       "    .dataframe tbody tr th {\n",
       "        vertical-align: top;\n",
       "    }\n",
       "\n",
       "    .dataframe thead th {\n",
       "        text-align: right;\n",
       "    }\n",
       "</style>\n",
       "<table border=\"1\" class=\"dataframe\">\n",
       "  <thead>\n",
       "    <tr style=\"text-align: right;\">\n",
       "      <th></th>\n",
       "      <th>title</th>\n",
       "      <th>text</th>\n",
       "      <th>subject</th>\n",
       "      <th>date</th>\n",
       "    </tr>\n",
       "  </thead>\n",
       "  <tbody>\n",
       "    <tr>\n",
       "      <th>0</th>\n",
       "      <td>As U.S. budget fight looms, Republicans flip t...</td>\n",
       "      <td>WASHINGTON (Reuters) - The head of a conservat...</td>\n",
       "      <td>politicsNews</td>\n",
       "      <td>December 31, 2017</td>\n",
       "    </tr>\n",
       "    <tr>\n",
       "      <th>1</th>\n",
       "      <td>U.S. military to accept transgender recruits o...</td>\n",
       "      <td>WASHINGTON (Reuters) - Transgender people will...</td>\n",
       "      <td>politicsNews</td>\n",
       "      <td>December 29, 2017</td>\n",
       "    </tr>\n",
       "    <tr>\n",
       "      <th>2</th>\n",
       "      <td>Senior U.S. Republican senator: 'Let Mr. Muell...</td>\n",
       "      <td>WASHINGTON (Reuters) - The special counsel inv...</td>\n",
       "      <td>politicsNews</td>\n",
       "      <td>December 31, 2017</td>\n",
       "    </tr>\n",
       "    <tr>\n",
       "      <th>3</th>\n",
       "      <td>FBI Russia probe helped by Australian diplomat...</td>\n",
       "      <td>WASHINGTON (Reuters) - Trump campaign adviser ...</td>\n",
       "      <td>politicsNews</td>\n",
       "      <td>December 30, 2017</td>\n",
       "    </tr>\n",
       "    <tr>\n",
       "      <th>4</th>\n",
       "      <td>Trump wants Postal Service to charge 'much mor...</td>\n",
       "      <td>SEATTLE/WASHINGTON (Reuters) - President Donal...</td>\n",
       "      <td>politicsNews</td>\n",
       "      <td>December 29, 2017</td>\n",
       "    </tr>\n",
       "  </tbody>\n",
       "</table>\n",
       "</div>"
      ],
      "text/plain": [
       "                                               title  \\\n",
       "0  As U.S. budget fight looms, Republicans flip t...   \n",
       "1  U.S. military to accept transgender recruits o...   \n",
       "2  Senior U.S. Republican senator: 'Let Mr. Muell...   \n",
       "3  FBI Russia probe helped by Australian diplomat...   \n",
       "4  Trump wants Postal Service to charge 'much mor...   \n",
       "\n",
       "                                                text       subject  \\\n",
       "0  WASHINGTON (Reuters) - The head of a conservat...  politicsNews   \n",
       "1  WASHINGTON (Reuters) - Transgender people will...  politicsNews   \n",
       "2  WASHINGTON (Reuters) - The special counsel inv...  politicsNews   \n",
       "3  WASHINGTON (Reuters) - Trump campaign adviser ...  politicsNews   \n",
       "4  SEATTLE/WASHINGTON (Reuters) - President Donal...  politicsNews   \n",
       "\n",
       "                 date  \n",
       "0  December 31, 2017   \n",
       "1  December 29, 2017   \n",
       "2  December 31, 2017   \n",
       "3  December 30, 2017   \n",
       "4  December 29, 2017   "
      ]
     },
     "execution_count": 27,
     "metadata": {},
     "output_type": "execute_result"
    }
   ],
   "source": [
    "true_news.head()"
   ]
  },
  {
   "cell_type": "code",
   "execution_count": 28,
   "metadata": {},
   "outputs": [
    {
     "data": {
      "text/html": [
       "<div>\n",
       "<style scoped>\n",
       "    .dataframe tbody tr th:only-of-type {\n",
       "        vertical-align: middle;\n",
       "    }\n",
       "\n",
       "    .dataframe tbody tr th {\n",
       "        vertical-align: top;\n",
       "    }\n",
       "\n",
       "    .dataframe thead th {\n",
       "        text-align: right;\n",
       "    }\n",
       "</style>\n",
       "<table border=\"1\" class=\"dataframe\">\n",
       "  <thead>\n",
       "    <tr style=\"text-align: right;\">\n",
       "      <th></th>\n",
       "      <th>title</th>\n",
       "      <th>text</th>\n",
       "      <th>subject</th>\n",
       "      <th>date</th>\n",
       "    </tr>\n",
       "  </thead>\n",
       "  <tbody>\n",
       "    <tr>\n",
       "      <th>count</th>\n",
       "      <td>23481</td>\n",
       "      <td>23481</td>\n",
       "      <td>23481</td>\n",
       "      <td>23481</td>\n",
       "    </tr>\n",
       "    <tr>\n",
       "      <th>unique</th>\n",
       "      <td>17903</td>\n",
       "      <td>17455</td>\n",
       "      <td>6</td>\n",
       "      <td>1681</td>\n",
       "    </tr>\n",
       "    <tr>\n",
       "      <th>top</th>\n",
       "      <td>MEDIA IGNORES Time That Bill Clinton FIRED His...</td>\n",
       "      <td></td>\n",
       "      <td>News</td>\n",
       "      <td>May 10, 2017</td>\n",
       "    </tr>\n",
       "    <tr>\n",
       "      <th>freq</th>\n",
       "      <td>6</td>\n",
       "      <td>626</td>\n",
       "      <td>9050</td>\n",
       "      <td>46</td>\n",
       "    </tr>\n",
       "  </tbody>\n",
       "</table>\n",
       "</div>"
      ],
      "text/plain": [
       "                                                    title   text subject  \\\n",
       "count                                               23481  23481   23481   \n",
       "unique                                              17903  17455       6   \n",
       "top     MEDIA IGNORES Time That Bill Clinton FIRED His...           News   \n",
       "freq                                                    6    626    9050   \n",
       "\n",
       "                date  \n",
       "count          23481  \n",
       "unique          1681  \n",
       "top     May 10, 2017  \n",
       "freq              46  "
      ]
     },
     "execution_count": 28,
     "metadata": {},
     "output_type": "execute_result"
    }
   ],
   "source": [
    "fake_news.describe()"
   ]
  },
  {
   "cell_type": "code",
   "execution_count": 29,
   "metadata": {},
   "outputs": [
    {
     "data": {
      "text/html": [
       "<div>\n",
       "<style scoped>\n",
       "    .dataframe tbody tr th:only-of-type {\n",
       "        vertical-align: middle;\n",
       "    }\n",
       "\n",
       "    .dataframe tbody tr th {\n",
       "        vertical-align: top;\n",
       "    }\n",
       "\n",
       "    .dataframe thead th {\n",
       "        text-align: right;\n",
       "    }\n",
       "</style>\n",
       "<table border=\"1\" class=\"dataframe\">\n",
       "  <thead>\n",
       "    <tr style=\"text-align: right;\">\n",
       "      <th></th>\n",
       "      <th>title</th>\n",
       "      <th>text</th>\n",
       "      <th>subject</th>\n",
       "      <th>date</th>\n",
       "    </tr>\n",
       "  </thead>\n",
       "  <tbody>\n",
       "    <tr>\n",
       "      <th>count</th>\n",
       "      <td>21417</td>\n",
       "      <td>21417</td>\n",
       "      <td>21417</td>\n",
       "      <td>21417</td>\n",
       "    </tr>\n",
       "    <tr>\n",
       "      <th>unique</th>\n",
       "      <td>20826</td>\n",
       "      <td>21192</td>\n",
       "      <td>2</td>\n",
       "      <td>716</td>\n",
       "    </tr>\n",
       "    <tr>\n",
       "      <th>top</th>\n",
       "      <td>Factbox: Trump fills top jobs for his administ...</td>\n",
       "      <td>(Reuters) - Highlights for U.S. President Dona...</td>\n",
       "      <td>politicsNews</td>\n",
       "      <td>December 20, 2017</td>\n",
       "    </tr>\n",
       "    <tr>\n",
       "      <th>freq</th>\n",
       "      <td>14</td>\n",
       "      <td>8</td>\n",
       "      <td>11272</td>\n",
       "      <td>182</td>\n",
       "    </tr>\n",
       "  </tbody>\n",
       "</table>\n",
       "</div>"
      ],
      "text/plain": [
       "                                                    title  \\\n",
       "count                                               21417   \n",
       "unique                                              20826   \n",
       "top     Factbox: Trump fills top jobs for his administ...   \n",
       "freq                                                   14   \n",
       "\n",
       "                                                     text       subject  \\\n",
       "count                                               21417         21417   \n",
       "unique                                              21192             2   \n",
       "top     (Reuters) - Highlights for U.S. President Dona...  politicsNews   \n",
       "freq                                                    8         11272   \n",
       "\n",
       "                      date  \n",
       "count                21417  \n",
       "unique                 716  \n",
       "top     December 20, 2017   \n",
       "freq                   182  "
      ]
     },
     "execution_count": 29,
     "metadata": {},
     "output_type": "execute_result"
    }
   ],
   "source": [
    "true_news.describe()"
   ]
  },
  {
   "cell_type": "code",
   "execution_count": 30,
   "metadata": {},
   "outputs": [],
   "source": [
    "true_news[\"Validity\"] = \"True\"\n",
    "fake_news[\"Validity\"] = \"Fake\""
   ]
  },
  {
   "cell_type": "code",
   "execution_count": 31,
   "metadata": {},
   "outputs": [
    {
     "data": {
      "text/html": [
       "<div>\n",
       "<style scoped>\n",
       "    .dataframe tbody tr th:only-of-type {\n",
       "        vertical-align: middle;\n",
       "    }\n",
       "\n",
       "    .dataframe tbody tr th {\n",
       "        vertical-align: top;\n",
       "    }\n",
       "\n",
       "    .dataframe thead th {\n",
       "        text-align: right;\n",
       "    }\n",
       "</style>\n",
       "<table border=\"1\" class=\"dataframe\">\n",
       "  <thead>\n",
       "    <tr style=\"text-align: right;\">\n",
       "      <th></th>\n",
       "      <th>title</th>\n",
       "      <th>text</th>\n",
       "      <th>subject</th>\n",
       "      <th>date</th>\n",
       "      <th>Validity</th>\n",
       "      <th>Article</th>\n",
       "    </tr>\n",
       "  </thead>\n",
       "  <tbody>\n",
       "    <tr>\n",
       "      <th>5915</th>\n",
       "      <td>Iraq parliament panel asks government to 'reci...</td>\n",
       "      <td>BAGHDAD (Reuters) - Iraq’s foreign affairs com...</td>\n",
       "      <td>politicsNews</td>\n",
       "      <td>January 29, 2017</td>\n",
       "      <td>True</td>\n",
       "      <td>Iraq parliament panel asks government to 'reci...</td>\n",
       "    </tr>\n",
       "    <tr>\n",
       "      <th>18815</th>\n",
       "      <td>Uzbek dissident charged with anti-government p...</td>\n",
       "      <td>ALMATY (Reuters) - An Uzbek dissident who was ...</td>\n",
       "      <td>worldnews</td>\n",
       "      <td>September 28, 2017</td>\n",
       "      <td>True</td>\n",
       "      <td>Uzbek dissident charged with anti-government p...</td>\n",
       "    </tr>\n",
       "    <tr>\n",
       "      <th>1215</th>\n",
       "      <td>EPA head seeks to avoid settlements with green...</td>\n",
       "      <td>WASHINGTON (Reuters) - The head of the U.S. En...</td>\n",
       "      <td>politicsNews</td>\n",
       "      <td>October 16, 2017</td>\n",
       "      <td>True</td>\n",
       "      <td>EPA head seeks to avoid settlements with green...</td>\n",
       "    </tr>\n",
       "    <tr>\n",
       "      <th>22339</th>\n",
       "      <td>Patrick Henningsen LIVE with guest Ray McGover...</td>\n",
       "      <td>Join Patrick every week at 21WIRE.TV for news...</td>\n",
       "      <td>US_News</td>\n",
       "      <td>December 1, 2016</td>\n",
       "      <td>Fake</td>\n",
       "      <td>Patrick Henningsen LIVE with guest Ray McGover...</td>\n",
       "    </tr>\n",
       "    <tr>\n",
       "      <th>9593</th>\n",
       "      <td>House passes bill to aid children born into op...</td>\n",
       "      <td>WASHINGTON (Reuters) - The House of Representa...</td>\n",
       "      <td>politicsNews</td>\n",
       "      <td>May 11, 2016</td>\n",
       "      <td>True</td>\n",
       "      <td>House passes bill to aid children born into op...</td>\n",
       "    </tr>\n",
       "    <tr>\n",
       "      <th>...</th>\n",
       "      <td>...</td>\n",
       "      <td>...</td>\n",
       "      <td>...</td>\n",
       "      <td>...</td>\n",
       "      <td>...</td>\n",
       "      <td>...</td>\n",
       "    </tr>\n",
       "    <tr>\n",
       "      <th>13238</th>\n",
       "      <td>REMEMBER 24/7 Media Coverage Of Bush’s “Hurric...</td>\n",
       "      <td>Remember the criticism George W. Bush received...</td>\n",
       "      <td>politics</td>\n",
       "      <td>Aug 15, 2016</td>\n",
       "      <td>Fake</td>\n",
       "      <td>REMEMBER 24/7 Media Coverage Of Bush’s “Hurric...</td>\n",
       "    </tr>\n",
       "    <tr>\n",
       "      <th>2068</th>\n",
       "      <td>Mattis: not decided on number of extra U.S. tr...</td>\n",
       "      <td>BAGHDAD (Reuters) - U.S. Defense Secretary Jam...</td>\n",
       "      <td>politicsNews</td>\n",
       "      <td>August 22, 2017</td>\n",
       "      <td>True</td>\n",
       "      <td>Mattis: not decided on number of extra U.S. tr...</td>\n",
       "    </tr>\n",
       "    <tr>\n",
       "      <th>1591</th>\n",
       "      <td>Democrats Chant Warning To GOP As Trumpcare P...</td>\n",
       "      <td>Alleged president Donald Trump is throwing a p...</td>\n",
       "      <td>News</td>\n",
       "      <td>May 4, 2017</td>\n",
       "      <td>Fake</td>\n",
       "      <td>Democrats Chant Warning To GOP As Trumpcare P...</td>\n",
       "    </tr>\n",
       "    <tr>\n",
       "      <th>1076</th>\n",
       "      <td>Factbox: Trump on Twitter (Oct 24) - Bob Corke...</td>\n",
       "      <td>The following statements were posted to the ve...</td>\n",
       "      <td>politicsNews</td>\n",
       "      <td>October 24, 2017</td>\n",
       "      <td>True</td>\n",
       "      <td>Factbox: Trump on Twitter (Oct 24) - Bob Corke...</td>\n",
       "    </tr>\n",
       "    <tr>\n",
       "      <th>19428</th>\n",
       "      <td>COLLEGE STUDENTS ASKED TO SIGN A Petition Canc...</td>\n",
       "      <td></td>\n",
       "      <td>left-news</td>\n",
       "      <td>Dec 18, 2016</td>\n",
       "      <td>Fake</td>\n",
       "      <td>COLLEGE STUDENTS ASKED TO SIGN A Petition Canc...</td>\n",
       "    </tr>\n",
       "  </tbody>\n",
       "</table>\n",
       "<p>44898 rows × 6 columns</p>\n",
       "</div>"
      ],
      "text/plain": [
       "                                                   title  \\\n",
       "5915   Iraq parliament panel asks government to 'reci...   \n",
       "18815  Uzbek dissident charged with anti-government p...   \n",
       "1215   EPA head seeks to avoid settlements with green...   \n",
       "22339  Patrick Henningsen LIVE with guest Ray McGover...   \n",
       "9593   House passes bill to aid children born into op...   \n",
       "...                                                  ...   \n",
       "13238  REMEMBER 24/7 Media Coverage Of Bush’s “Hurric...   \n",
       "2068   Mattis: not decided on number of extra U.S. tr...   \n",
       "1591    Democrats Chant Warning To GOP As Trumpcare P...   \n",
       "1076   Factbox: Trump on Twitter (Oct 24) - Bob Corke...   \n",
       "19428  COLLEGE STUDENTS ASKED TO SIGN A Petition Canc...   \n",
       "\n",
       "                                                    text       subject  \\\n",
       "5915   BAGHDAD (Reuters) - Iraq’s foreign affairs com...  politicsNews   \n",
       "18815  ALMATY (Reuters) - An Uzbek dissident who was ...     worldnews   \n",
       "1215   WASHINGTON (Reuters) - The head of the U.S. En...  politicsNews   \n",
       "22339   Join Patrick every week at 21WIRE.TV for news...       US_News   \n",
       "9593   WASHINGTON (Reuters) - The House of Representa...  politicsNews   \n",
       "...                                                  ...           ...   \n",
       "13238  Remember the criticism George W. Bush received...      politics   \n",
       "2068   BAGHDAD (Reuters) - U.S. Defense Secretary Jam...  politicsNews   \n",
       "1591   Alleged president Donald Trump is throwing a p...          News   \n",
       "1076   The following statements were posted to the ve...  politicsNews   \n",
       "19428                                                        left-news   \n",
       "\n",
       "                      date Validity  \\\n",
       "5915     January 29, 2017      True   \n",
       "18815  September 28, 2017      True   \n",
       "1215     October 16, 2017      True   \n",
       "22339     December 1, 2016     Fake   \n",
       "9593         May 11, 2016      True   \n",
       "...                    ...      ...   \n",
       "13238         Aug 15, 2016     Fake   \n",
       "2068      August 22, 2017      True   \n",
       "1591           May 4, 2017     Fake   \n",
       "1076     October 24, 2017      True   \n",
       "19428         Dec 18, 2016     Fake   \n",
       "\n",
       "                                                 Article  \n",
       "5915   Iraq parliament panel asks government to 'reci...  \n",
       "18815  Uzbek dissident charged with anti-government p...  \n",
       "1215   EPA head seeks to avoid settlements with green...  \n",
       "22339  Patrick Henningsen LIVE with guest Ray McGover...  \n",
       "9593   House passes bill to aid children born into op...  \n",
       "...                                                  ...  \n",
       "13238  REMEMBER 24/7 Media Coverage Of Bush’s “Hurric...  \n",
       "2068   Mattis: not decided on number of extra U.S. tr...  \n",
       "1591    Democrats Chant Warning To GOP As Trumpcare P...  \n",
       "1076   Factbox: Trump on Twitter (Oct 24) - Bob Corke...  \n",
       "19428  COLLEGE STUDENTS ASKED TO SIGN A Petition Canc...  \n",
       "\n",
       "[44898 rows x 6 columns]"
      ]
     },
     "execution_count": 31,
     "metadata": {},
     "output_type": "execute_result"
    }
   ],
   "source": [
    "# Merge datasets and shuffle\n",
    "all_news = pd.concat([true_news, fake_news])\n",
    "all_news[\"Article\"] = all_news[\"title\"] + all_news[\"text\"]\n",
    "all_news.sample(frac = 1) "
   ]
  },
  {
   "cell_type": "code",
   "execution_count": 32,
   "metadata": {},
   "outputs": [
    {
     "name": "stderr",
     "output_type": "stream",
     "text": [
      "[nltk_data] Downloading package stopwords to\n",
      "[nltk_data]     C:\\Users\\MSI\\AppData\\Roaming\\nltk_data...\n",
      "[nltk_data]   Unzipping corpora\\stopwords.zip.\n"
     ]
    }
   ],
   "source": [
    "# Clear Unnecessary Characters\n",
    "import nltk\n",
    "nltk.download('stopwords')\n",
    "import string"
   ]
  },
  {
   "cell_type": "code",
   "execution_count": 33,
   "metadata": {},
   "outputs": [],
   "source": [
    "def process_text(s):\n",
    "\n",
    "    # Check for punctuation\n",
    "    nopunc = [char for char in s if char not in string.punctuation]\n",
    "\n",
    "    # Join the characters without punctuation\n",
    "    nopunc = ''.join(nopunc)\n",
    "    \n",
    "    # Convert string to lowercase and remove stopwords\n",
    "    clean_string = [word for word in nopunc.split() if word.lower() not in stopwords.words('english')]\n",
    "    return clean_string"
   ]
  },
  {
   "cell_type": "code",
   "execution_count": 34,
   "metadata": {},
   "outputs": [],
   "source": [
    "# Tokenize the article text - Split the chunk of text into words\n",
    "all_news[\"Clean Text\"] = all_news[\"Article\"].apply(process_text)"
   ]
  },
  {
   "cell_type": "code",
   "execution_count": 36,
   "metadata": {},
   "outputs": [
    {
     "data": {
      "text/html": [
       "<div>\n",
       "<style scoped>\n",
       "    .dataframe tbody tr th:only-of-type {\n",
       "        vertical-align: middle;\n",
       "    }\n",
       "\n",
       "    .dataframe tbody tr th {\n",
       "        vertical-align: top;\n",
       "    }\n",
       "\n",
       "    .dataframe thead th {\n",
       "        text-align: right;\n",
       "    }\n",
       "</style>\n",
       "<table border=\"1\" class=\"dataframe\">\n",
       "  <thead>\n",
       "    <tr style=\"text-align: right;\">\n",
       "      <th></th>\n",
       "      <th>title</th>\n",
       "      <th>text</th>\n",
       "      <th>subject</th>\n",
       "      <th>date</th>\n",
       "      <th>Validity</th>\n",
       "      <th>Article</th>\n",
       "      <th>Clean Text</th>\n",
       "    </tr>\n",
       "  </thead>\n",
       "  <tbody>\n",
       "    <tr>\n",
       "      <th>16842</th>\n",
       "      <td>China says no excuses for foreign officials me...</td>\n",
       "      <td>BEIJING (Reuters) - Foreign leaders can t thin...</td>\n",
       "      <td>worldnews</td>\n",
       "      <td>October 21, 2017</td>\n",
       "      <td>True</td>\n",
       "      <td>China says no excuses for foreign officials me...</td>\n",
       "      <td>[China, says, excuses, foreign, officials, mee...</td>\n",
       "    </tr>\n",
       "    <tr>\n",
       "      <th>8981</th>\n",
       "      <td>Wow: Did The Palins Lie About When Bristol’s ...</td>\n",
       "      <td>Conspiracy theories aren t something I take se...</td>\n",
       "      <td>News</td>\n",
       "      <td>January 4, 2016</td>\n",
       "      <td>Fake</td>\n",
       "      <td>Wow: Did The Palins Lie About When Bristol’s ...</td>\n",
       "      <td>[Wow, Palins, Lie, Bristol’s, Baby, Born, Cove...</td>\n",
       "    </tr>\n",
       "    <tr>\n",
       "      <th>993</th>\n",
       "      <td>U.S. belatedly begins to comply with Russia sa...</td>\n",
       "      <td>WASHINGTON (Reuters) - The U.S. State Departme...</td>\n",
       "      <td>politicsNews</td>\n",
       "      <td>October 26, 2017</td>\n",
       "      <td>True</td>\n",
       "      <td>U.S. belatedly begins to comply with Russia sa...</td>\n",
       "      <td>[US, belatedly, begins, comply, Russia, sancti...</td>\n",
       "    </tr>\n",
       "    <tr>\n",
       "      <th>2584</th>\n",
       "      <td>Trump And His ‘Law And Order’ AG Sign Executi...</td>\n",
       "      <td>Police violence against people of color is a h...</td>\n",
       "      <td>News</td>\n",
       "      <td>February 10, 2017</td>\n",
       "      <td>Fake</td>\n",
       "      <td>Trump And His ‘Law And Order’ AG Sign Executi...</td>\n",
       "      <td>[Trump, ‘Law, Order’, AG, Sign, Executive, Ord...</td>\n",
       "    </tr>\n",
       "    <tr>\n",
       "      <th>7733</th>\n",
       "      <td>Trump gains on Clinton, poll shows 'rigged' me...</td>\n",
       "      <td>NEWTOWN, Pa./NEW YORK (Reuters) - Republican p...</td>\n",
       "      <td>politicsNews</td>\n",
       "      <td>October 21, 2016</td>\n",
       "      <td>True</td>\n",
       "      <td>Trump gains on Clinton, poll shows 'rigged' me...</td>\n",
       "      <td>[Trump, gains, Clinton, poll, shows, rigged, m...</td>\n",
       "    </tr>\n",
       "  </tbody>\n",
       "</table>\n",
       "</div>"
      ],
      "text/plain": [
       "                                                   title  \\\n",
       "16842  China says no excuses for foreign officials me...   \n",
       "8981    Wow: Did The Palins Lie About When Bristol’s ...   \n",
       "993    U.S. belatedly begins to comply with Russia sa...   \n",
       "2584    Trump And His ‘Law And Order’ AG Sign Executi...   \n",
       "7733   Trump gains on Clinton, poll shows 'rigged' me...   \n",
       "\n",
       "                                                    text       subject  \\\n",
       "16842  BEIJING (Reuters) - Foreign leaders can t thin...     worldnews   \n",
       "8981   Conspiracy theories aren t something I take se...          News   \n",
       "993    WASHINGTON (Reuters) - The U.S. State Departme...  politicsNews   \n",
       "2584   Police violence against people of color is a h...          News   \n",
       "7733   NEWTOWN, Pa./NEW YORK (Reuters) - Republican p...  politicsNews   \n",
       "\n",
       "                    date Validity  \\\n",
       "16842  October 21, 2017      True   \n",
       "8981     January 4, 2016     Fake   \n",
       "993    October 26, 2017      True   \n",
       "2584   February 10, 2017     Fake   \n",
       "7733   October 21, 2016      True   \n",
       "\n",
       "                                                 Article  \\\n",
       "16842  China says no excuses for foreign officials me...   \n",
       "8981    Wow: Did The Palins Lie About When Bristol’s ...   \n",
       "993    U.S. belatedly begins to comply with Russia sa...   \n",
       "2584    Trump And His ‘Law And Order’ AG Sign Executi...   \n",
       "7733   Trump gains on Clinton, poll shows 'rigged' me...   \n",
       "\n",
       "                                              Clean Text  \n",
       "16842  [China, says, excuses, foreign, officials, mee...  \n",
       "8981   [Wow, Palins, Lie, Bristol’s, Baby, Born, Cove...  \n",
       "993    [US, belatedly, begins, comply, Russia, sancti...  \n",
       "2584   [Trump, ‘Law, Order’, AG, Sign, Executive, Ord...  \n",
       "7733   [Trump, gains, Clinton, poll, shows, rigged, m...  "
      ]
     },
     "execution_count": 36,
     "metadata": {},
     "output_type": "execute_result"
    }
   ],
   "source": [
    "all_news.sample(5)"
   ]
  },
  {
   "cell_type": "code",
   "execution_count": 38,
   "metadata": {},
   "outputs": [],
   "source": [
    "from sklearn.feature_extraction.text import CountVectorizer"
   ]
  },
  {
   "cell_type": "code",
   "execution_count": 40,
   "metadata": {},
   "outputs": [
    {
     "name": "stdout",
     "output_type": "stream",
     "text": [
      "39099\n"
     ]
    }
   ],
   "source": [
    "# Bag of Words algorithm - Feature Extraction\n",
    "bow_transformer = CountVectorizer(analyzer=process_text).fit(all_news[\"Clean Text\"])\n",
    "print(len(bow_transformer.vocabulary_))"
   ]
  },
  {
   "cell_type": "code",
   "execution_count": 41,
   "metadata": {},
   "outputs": [],
   "source": [
    "all_news_bow = bow_transformer.transform(all_news[\"Clean Text\"])"
   ]
  },
  {
   "cell_type": "code",
   "execution_count": 42,
   "metadata": {},
   "outputs": [
    {
     "name": "stdout",
     "output_type": "stream",
     "text": [
      "(44898, 39099)\n",
      "44898\n"
     ]
    }
   ],
   "source": [
    "# Shape and non zero occurences of sparse matrix\n",
    "print(all_news_bow.shape)\n",
    "print(all_news_bow.nnz)"
   ]
  },
  {
   "cell_type": "code",
   "execution_count": 43,
   "metadata": {},
   "outputs": [
    {
     "name": "stdout",
     "output_type": "stream",
     "text": [
      "sparsity: 0\n"
     ]
    }
   ],
   "source": [
    "sparsity = (100.0 * all_news_bow.nnz / (all_news_bow.shape[0] * all_news_bow.shape[1]))\n",
    "print(\"sparsity: {}\".format(round(sparsity)))"
   ]
  },
  {
   "cell_type": "code",
   "execution_count": 44,
   "metadata": {},
   "outputs": [
    {
     "name": "stdout",
     "output_type": "stream",
     "text": [
      "(44898, 39099)\n"
     ]
    }
   ],
   "source": [
    "# Vectorize using TF-IDF\n",
    "from sklearn.feature_extraction.text import TfidfTransformer\n",
    "\n",
    "tfidf_transformer = TfidfTransformer().fit(all_news_bow)\n",
    "all_news_tfidf = tfidf_transformer.transform(all_news_bow)\n",
    "print(all_news_tfidf.shape)"
   ]
  },
  {
   "cell_type": "code",
   "execution_count": 46,
   "metadata": {},
   "outputs": [],
   "source": [
    "# Train Naive Bayes Model\n",
    "from sklearn.naive_bayes import MultinomialNB\n",
    "fakenews_detect_model = MultinomialNB().fit(all_news_tfidf, all_news[\"Validity\"])"
   ]
  },
  {
   "cell_type": "code",
   "execution_count": 47,
   "metadata": {},
   "outputs": [
    {
     "name": "stdout",
     "output_type": "stream",
     "text": [
      "['True' 'True' 'True' ... 'Fake' 'Fake' 'Fake']\n"
     ]
    }
   ],
   "source": [
    "# Evaluate Model\n",
    "results = fakenews_detect_model.predict(all_news_tfidf)\n",
    "print(results)"
   ]
  },
  {
   "cell_type": "code",
   "execution_count": 48,
   "metadata": {},
   "outputs": [
    {
     "name": "stdout",
     "output_type": "stream",
     "text": [
      "              precision    recall  f1-score   support\n",
      "\n",
      "        Fake       1.00      1.00      1.00     23481\n",
      "        True       1.00      1.00      1.00     21417\n",
      "\n",
      "    accuracy                           1.00     44898\n",
      "   macro avg       1.00      1.00      1.00     44898\n",
      "weighted avg       1.00      1.00      1.00     44898\n",
      "\n"
     ]
    }
   ],
   "source": [
    "from sklearn.metrics import classification_report\n",
    "print (classification_report(all_news[\"Validity\"], results))"
   ]
  },
  {
   "cell_type": "code",
   "execution_count": 49,
   "metadata": {},
   "outputs": [
    {
     "name": "stdout",
     "output_type": "stream",
     "text": [
      "33673 11225 44898\n"
     ]
    }
   ],
   "source": [
    "# Split data into test and train sets. X represents features and Y represents labels\n",
    "from sklearn.model_selection import train_test_split\n",
    "\n",
    "x_train, x_test, y_train, y_test = train_test_split(all_news[\"Article\"], all_news[\"Validity\"], test_size=0.25)\n",
    "\n",
    "print(len(x_train), len(x_test), len(x_train) + len(x_test))"
   ]
  },
  {
   "cell_type": "code",
   "execution_count": 50,
   "metadata": {},
   "outputs": [
    {
     "data": {
      "text/html": [
       "<style>#sk-container-id-1 {color: black;background-color: white;}#sk-container-id-1 pre{padding: 0;}#sk-container-id-1 div.sk-toggleable {background-color: white;}#sk-container-id-1 label.sk-toggleable__label {cursor: pointer;display: block;width: 100%;margin-bottom: 0;padding: 0.3em;box-sizing: border-box;text-align: center;}#sk-container-id-1 label.sk-toggleable__label-arrow:before {content: \"▸\";float: left;margin-right: 0.25em;color: #696969;}#sk-container-id-1 label.sk-toggleable__label-arrow:hover:before {color: black;}#sk-container-id-1 div.sk-estimator:hover label.sk-toggleable__label-arrow:before {color: black;}#sk-container-id-1 div.sk-toggleable__content {max-height: 0;max-width: 0;overflow: hidden;text-align: left;background-color: #f0f8ff;}#sk-container-id-1 div.sk-toggleable__content pre {margin: 0.2em;color: black;border-radius: 0.25em;background-color: #f0f8ff;}#sk-container-id-1 input.sk-toggleable__control:checked~div.sk-toggleable__content {max-height: 200px;max-width: 100%;overflow: auto;}#sk-container-id-1 input.sk-toggleable__control:checked~label.sk-toggleable__label-arrow:before {content: \"▾\";}#sk-container-id-1 div.sk-estimator input.sk-toggleable__control:checked~label.sk-toggleable__label {background-color: #d4ebff;}#sk-container-id-1 div.sk-label input.sk-toggleable__control:checked~label.sk-toggleable__label {background-color: #d4ebff;}#sk-container-id-1 input.sk-hidden--visually {border: 0;clip: rect(1px 1px 1px 1px);clip: rect(1px, 1px, 1px, 1px);height: 1px;margin: -1px;overflow: hidden;padding: 0;position: absolute;width: 1px;}#sk-container-id-1 div.sk-estimator {font-family: monospace;background-color: #f0f8ff;border: 1px dotted black;border-radius: 0.25em;box-sizing: border-box;margin-bottom: 0.5em;}#sk-container-id-1 div.sk-estimator:hover {background-color: #d4ebff;}#sk-container-id-1 div.sk-parallel-item::after {content: \"\";width: 100%;border-bottom: 1px solid gray;flex-grow: 1;}#sk-container-id-1 div.sk-label:hover label.sk-toggleable__label {background-color: #d4ebff;}#sk-container-id-1 div.sk-serial::before {content: \"\";position: absolute;border-left: 1px solid gray;box-sizing: border-box;top: 0;bottom: 0;left: 50%;z-index: 0;}#sk-container-id-1 div.sk-serial {display: flex;flex-direction: column;align-items: center;background-color: white;padding-right: 0.2em;padding-left: 0.2em;position: relative;}#sk-container-id-1 div.sk-item {position: relative;z-index: 1;}#sk-container-id-1 div.sk-parallel {display: flex;align-items: stretch;justify-content: center;background-color: white;position: relative;}#sk-container-id-1 div.sk-item::before, #sk-container-id-1 div.sk-parallel-item::before {content: \"\";position: absolute;border-left: 1px solid gray;box-sizing: border-box;top: 0;bottom: 0;left: 50%;z-index: -1;}#sk-container-id-1 div.sk-parallel-item {display: flex;flex-direction: column;z-index: 1;position: relative;background-color: white;}#sk-container-id-1 div.sk-parallel-item:first-child::after {align-self: flex-end;width: 50%;}#sk-container-id-1 div.sk-parallel-item:last-child::after {align-self: flex-start;width: 50%;}#sk-container-id-1 div.sk-parallel-item:only-child::after {width: 0;}#sk-container-id-1 div.sk-dashed-wrapped {border: 1px dashed gray;margin: 0 0.4em 0.5em 0.4em;box-sizing: border-box;padding-bottom: 0.4em;background-color: white;}#sk-container-id-1 div.sk-label label {font-family: monospace;font-weight: bold;display: inline-block;line-height: 1.2em;}#sk-container-id-1 div.sk-label-container {text-align: center;}#sk-container-id-1 div.sk-container {/* jupyter's `normalize.less` sets `[hidden] { display: none; }` but bootstrap.min.css set `[hidden] { display: none !important; }` so we also need the `!important` here to be able to override the default hidden behavior on the sphinx rendered scikit-learn.org. See: https://github.com/scikit-learn/scikit-learn/issues/21755 */display: inline-block !important;position: relative;}#sk-container-id-1 div.sk-text-repr-fallback {display: none;}</style><div id=\"sk-container-id-1\" class=\"sk-top-container\"><div class=\"sk-text-repr-fallback\"><pre>Pipeline(steps=[(&#x27;bow&#x27;,\n",
       "                 CountVectorizer(analyzer=&lt;function process_text at 0x000001425EA51E10&gt;)),\n",
       "                (&#x27;tfidf&#x27;, TfidfTransformer()),\n",
       "                (&#x27;classifier&#x27;, MultinomialNB())])</pre><b>In a Jupyter environment, please rerun this cell to show the HTML representation or trust the notebook. <br />On GitHub, the HTML representation is unable to render, please try loading this page with nbviewer.org.</b></div><div class=\"sk-container\" hidden><div class=\"sk-item sk-dashed-wrapped\"><div class=\"sk-label-container\"><div class=\"sk-label sk-toggleable\"><input class=\"sk-toggleable__control sk-hidden--visually\" id=\"sk-estimator-id-1\" type=\"checkbox\" ><label for=\"sk-estimator-id-1\" class=\"sk-toggleable__label sk-toggleable__label-arrow\">Pipeline</label><div class=\"sk-toggleable__content\"><pre>Pipeline(steps=[(&#x27;bow&#x27;,\n",
       "                 CountVectorizer(analyzer=&lt;function process_text at 0x000001425EA51E10&gt;)),\n",
       "                (&#x27;tfidf&#x27;, TfidfTransformer()),\n",
       "                (&#x27;classifier&#x27;, MultinomialNB())])</pre></div></div></div><div class=\"sk-serial\"><div class=\"sk-item\"><div class=\"sk-estimator sk-toggleable\"><input class=\"sk-toggleable__control sk-hidden--visually\" id=\"sk-estimator-id-2\" type=\"checkbox\" ><label for=\"sk-estimator-id-2\" class=\"sk-toggleable__label sk-toggleable__label-arrow\">CountVectorizer</label><div class=\"sk-toggleable__content\"><pre>CountVectorizer(analyzer=&lt;function process_text at 0x000001425EA51E10&gt;)</pre></div></div></div><div class=\"sk-item\"><div class=\"sk-estimator sk-toggleable\"><input class=\"sk-toggleable__control sk-hidden--visually\" id=\"sk-estimator-id-3\" type=\"checkbox\" ><label for=\"sk-estimator-id-3\" class=\"sk-toggleable__label sk-toggleable__label-arrow\">TfidfTransformer</label><div class=\"sk-toggleable__content\"><pre>TfidfTransformer()</pre></div></div></div><div class=\"sk-item\"><div class=\"sk-estimator sk-toggleable\"><input class=\"sk-toggleable__control sk-hidden--visually\" id=\"sk-estimator-id-4\" type=\"checkbox\" ><label for=\"sk-estimator-id-4\" class=\"sk-toggleable__label sk-toggleable__label-arrow\">MultinomialNB</label><div class=\"sk-toggleable__content\"><pre>MultinomialNB()</pre></div></div></div></div></div></div></div>"
      ],
      "text/plain": [
       "Pipeline(steps=[('bow',\n",
       "                 CountVectorizer(analyzer=<function process_text at 0x000001425EA51E10>)),\n",
       "                ('tfidf', TfidfTransformer()),\n",
       "                ('classifier', MultinomialNB())])"
      ]
     },
     "execution_count": 50,
     "metadata": {},
     "output_type": "execute_result"
    }
   ],
   "source": [
    "# Create Data Pipeline\n",
    "from sklearn.pipeline import Pipeline\n",
    "\n",
    "pipeline = Pipeline([\n",
    "    (\"bow\", CountVectorizer(analyzer=process_text)),  # Convert strings to token integer counts\n",
    "    (\"tfidf\", TfidfTransformer()),  # Convert integer counts to vectorized TF-IDF scores\n",
    "    (\"classifier\", MultinomialNB()),  # Train on TF-IDF vectors with Naive Bayes classifier\n",
    "])\n",
    "pipeline.fit(x_train, y_train)"
   ]
  },
  {
   "cell_type": "code",
   "execution_count": 51,
   "metadata": {},
   "outputs": [],
   "source": [
    "results = pipeline.predict(x_test)"
   ]
  },
  {
   "cell_type": "code",
   "execution_count": 52,
   "metadata": {},
   "outputs": [
    {
     "name": "stdout",
     "output_type": "stream",
     "text": [
      "              precision    recall  f1-score   support\n",
      "\n",
      "        Fake       0.96      0.98      0.97      5790\n",
      "        True       0.98      0.96      0.97      5435\n",
      "\n",
      "    accuracy                           0.97     11225\n",
      "   macro avg       0.97      0.97      0.97     11225\n",
      "weighted avg       0.97      0.97      0.97     11225\n",
      "\n"
     ]
    }
   ],
   "source": [
    "print(classification_report(results, y_test))"
   ]
  },
  {
   "cell_type": "code",
   "execution_count": 53,
   "metadata": {},
   "outputs": [
    {
     "name": "stdout",
     "output_type": "stream",
     "text": [
      "(11225,)\n"
     ]
    }
   ],
   "source": [
    "print(x_test.shape)"
   ]
  },
  {
   "cell_type": "code",
   "execution_count": 54,
   "metadata": {},
   "outputs": [
    {
     "name": "stdout",
     "output_type": "stream",
     "text": [
      "2875     Erdogan says U.S. stance stalls Turkish ratifi...\n",
      "7328      Michele Bachmann Believes God Was Punishing O...\n",
      "4656      WATCH: Deplorable Trump Supporter Punches Pro...\n",
      "14969    Detroit Suburb Elects First Muslim Majority Ci...\n",
      "480       There’s A Bill In The House That Would Comple...\n",
      "Name: Article, dtype: object\n"
     ]
    }
   ],
   "source": [
    "print(x_test.head())"
   ]
  },
  {
   "cell_type": "code",
   "execution_count": 55,
   "metadata": {},
   "outputs": [
    {
     "name": "stdout",
     "output_type": "stream",
     "text": [
      "['True' 'Fake' 'Fake' ... 'True' 'True' 'Fake']\n"
     ]
    }
   ],
   "source": [
    "print(results)"
   ]
  },
  {
   "cell_type": "code",
   "execution_count": 56,
   "metadata": {},
   "outputs": [
    {
     "data": {
      "text/plain": [
       "['detector_pipeline.joblib']"
      ]
     },
     "execution_count": 56,
     "metadata": {},
     "output_type": "execute_result"
    }
   ],
   "source": [
    "# Save pipeline\n",
    "import joblib\n",
    "joblib.dump(pipeline, \"detector_pipeline.joblib\")"
   ]
  }
 ],
 "metadata": {
  "kernelspec": {
   "display_name": "Python 3 (ipykernel)",
   "language": "python",
   "name": "python3"
  },
  "language_info": {
   "codemirror_mode": {
    "name": "ipython",
    "version": 3
   },
   "file_extension": ".py",
   "mimetype": "text/x-python",
   "name": "python",
   "nbconvert_exporter": "python",
   "pygments_lexer": "ipython3",
   "version": "3.10.2"
  },
  "vscode": {
   "interpreter": {
    "hash": "de66d7802e14fb2e8694b63e255d0fe3514f0a531cbbfb87d1ecc51a74f4db4d"
   }
  }
 },
 "nbformat": 4,
 "nbformat_minor": 2
}
